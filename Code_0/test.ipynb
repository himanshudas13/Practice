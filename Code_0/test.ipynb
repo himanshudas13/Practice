{
 "cells": [
  {
   "cell_type": "code",
   "execution_count": 12,
   "id": "e96106fa",
   "metadata": {},
   "outputs": [],
   "source": [
    "from langgraph.graph import StateGraph,START,END\n",
    "from typing_extensions import TypedDict"
   ]
  },
  {
   "cell_type": "code",
   "execution_count": 5,
   "id": "4d18ada9",
   "metadata": {},
   "outputs": [],
   "source": [
    "# define state\n",
    "class BMIstate(TypedDict):\n",
    "    weight_kg:float\n",
    "    height:float\n",
    "    bmi:float"
   ]
  },
  {
   "cell_type": "code",
   "execution_count": 9,
   "id": "07167b5f",
   "metadata": {},
   "outputs": [],
   "source": [
    "def bmi_calculator(state:BMIstate) -> BMIstate:\n",
    "\n",
    "    bmi = state[\"weight_kg\"] / (state[\"height\"] ** 2)\n",
    "    state[\"bmi\"] = round(bmi, 2)\n",
    "    return state"
   ]
  },
  {
   "cell_type": "code",
   "execution_count": 13,
   "id": "808af7f4",
   "metadata": {},
   "outputs": [],
   "source": [
    "graph = StateGraph(BMIstate)\n",
    "\n",
    "graph.add_node(\"bmi_calculator\", bmi_calculator)\n",
    "\n",
    "graph.add_edge(START, \"bmi_calculator\")\n",
    "graph.add_edge(\"bmi_calculator\", END)\n",
    "\n",
    "\n",
    "workflow=graph.compile()"
   ]
  },
  {
   "cell_type": "code",
   "execution_count": 15,
   "id": "9c769679",
   "metadata": {},
   "outputs": [],
   "source": [
    "initial_state = {\"weight_kg\": 70, \"height\": 1.75}\n",
    "final_state = workflow.invoke(initial_state)"
   ]
  },
  {
   "cell_type": "code",
   "execution_count": 17,
   "id": "6b12cbb0",
   "metadata": {},
   "outputs": [
    {
     "data": {
      "image/png": "[encoded data removed]",
      "text/plain": [
       "<IPython.core.display.Image object>"
      ]
     },
     "execution_count": 17,
     "metadata": {},
     "output_type": "execute_result"
    }
   ],
   "source": [
    "from IPython.display import Image\n",
    "\n",
    "Image(data=workflow.get_graph().draw_mermaid_png())\n"
   ]
  }
 ],
 "metadata": {
  "kernelspec": {
   "display_name": ".venv",
   "language": "python",
   "name": "python3"
  },
  "language_info": {
   "codemirror_mode": {
    "name": "ipython",
    "version": 3
   },
   "file_extension": ".py",
   "mimetype": "text/x-python",
   "name": "python",
   "nbconvert_exporter": "python",
   "pygments_lexer": "ipython3",
   "version": "3.10.6"
  }
 },
 "nbformat": 4,
 "nbformat_minor": 5
}
