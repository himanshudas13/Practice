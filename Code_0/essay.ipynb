{
 "cells": [
  {
   "cell_type": "code",
   "execution_count": 1,
   "id": "ca779e89",
   "metadata": {},
   "outputs": [],
   "source": [
    "from langchain_openai import ChatOpenAI\n",
    "from pydantic import BaseModel, Field\n",
    "import re\n",
    "import os\n",
    "from dotenv import load_dotenv\n",
    "load_dotenv()\n",
    "from typing_extensions import TypedDict,Annotated\n",
    "import operator\n",
    "from langgraph.graph import StateGraph,START,END\n"
   ]
  },
  {
   "cell_type": "code",
   "execution_count": 2,
   "id": "d113dbca",
   "metadata": {},
   "outputs": [],
   "source": [
    "model=ChatOpenAI(\n",
    "            base_url=\"https://openrouter.ai/api/v1\",\n",
    "            api_key=os.getenv(\"OPENROUTER_DEEPSEEK_API_KEY\"),  # or hardcode for now\n",
    "            model=\"deepseek/deepseek-chat\",\n",
    "            temperature=0.7,\n",
    "            max_tokens=500\n",
    "        )\n",
    "\n",
    "# response = model.invoke(full_prompt)"
   ]
  },
  {
   "cell_type": "code",
   "execution_count": 3,
   "id": "c64d0e1c",
   "metadata": {},
   "outputs": [],
   "source": [
    "class EvaluationSchema(BaseModel):\n",
    "    feedback:str = Field(..., description=\"Feedback for the essay\")\n",
    "    score:float = Field(..., description=\"Score for the essay out of 10\")\n",
    "    \n",
    "structured_model=model.with_structured_output(EvaluationSchema)"
   ]
  },
  {
   "cell_type": "code",
   "execution_count": 4,
   "id": "efc7303f",
   "metadata": {},
   "outputs": [],
   "source": [
    "essay=\"India is a democracy. That mean=s people can vote for their leaders. There are many political parties, like BJP, Congress, and others. People vote every few years in elections.The Indian polity also gives people rights, like freedom of speech and equality.\""
   ]
  },
  {
   "cell_type": "code",
   "execution_count": 5,
   "id": "8ad6cf1c",
   "metadata": {},
   "outputs": [
    {
     "name": "stdout",
     "output_type": "stream",
     "text": [
      "Provide concise feedback on the language of following essay and rate it out of 10 \n",
      "\n",
      " India is a democracy. That mean=s people can vote for their leaders. There are many political parties, like BJP, Congress, and others. People vote every few years in elections.The Indian polity also gives people rights, like freedom of speech and equality. \n"
     ]
    }
   ],
   "source": [
    "load_dotenv()\n",
    "# essay=os.getenv(\"text\")\n",
    "prompt=f\"Provide concise feedback on the language of following essay and rate it out of 10 \\n\\n {essay} \"\n",
    "print(prompt)"
   ]
  },
  {
   "cell_type": "code",
   "execution_count": 6,
   "id": "f338b691",
   "metadata": {},
   "outputs": [
    {
     "data": {
      "text/plain": [
       "EvaluationSchema(feedback=\"The essay conveys basic ideas about India's democracy and political system but suffers from several language issues. Here’s a breakdown:\\n1. **Grammar**: 'mean=s' is a typo and should be 'means.'\\n2. **Clarity**: The essay is overly simplistic and lacks depth. For example, it could elaborate on how democracy functions or the significance of rights like freedom of speech.\\n3. **Structure**: The sentences are short and choppy, making the essay feel disjointed. Better transitions and more complex sentence structures would improve readability.\\n4. **Vocabulary**: The language is very basic and repetitive (e.g., 'People vote every few years in elections' could be rephrased for variety).\\n5. **Content**: The essay touches on key points but does not explore them in any meaningful way. Adding examples or details would strengthen the argument.\\n6. **Overall**: The essay is functional but lacks sophistication and depth.\", score=4.0)"
      ]
     },
     "execution_count": 6,
     "metadata": {},
     "output_type": "execute_result"
    }
   ],
   "source": [
    "structured_model.invoke(prompt)"
   ]
  },
  {
   "cell_type": "code",
   "execution_count": 7,
   "id": "c01d7da3",
   "metadata": {},
   "outputs": [],
   "source": [
    "class State_holder(TypedDict):\n",
    "    essay:str\n",
    "    lang_feedback:str\n",
    "    eff_feedback:str\n",
    "    fun_feedback:str\n",
    "    individual_scores:Annotated[list[float], operator.add]\n",
    "    final_score:float\n",
    "    rvw:str\n",
    "# operator is the reducer-- max, multiplication and a loads of such operator are available\n",
    "    \n",
    "    \n"
   ]
  },
  {
   "cell_type": "code",
   "execution_count": 8,
   "id": "15ad700d",
   "metadata": {},
   "outputs": [],
   "source": [
    "def evaluate_lang(state: State_holder):\n",
    "    prompt = f\"Provide concise feedback on the language of following essay and rate it out of 10 \\n\\n {state['essay']} \"\n",
    "    response=structured_model.invoke(prompt)\n",
    "    # state.lang_feedback = response.feedback\n",
    "    return {'lang_feedback':response.feedback,'individual_scores':[response.score]}\n",
    "\n",
    "def evaluate_fun(state: State_holder):\n",
    "    prompt = f\"Provide concise feedback on the humor of following essay and rate it out of 10 \\n\\n {state['essay']} \"\n",
    "    response=structured_model.invoke(prompt)\n",
    "    # state.lang_feedback = response.feedback\n",
    "    return {'fun_feedback':response.feedback,'individual_scores':[response.score]}\n",
    "\n",
    "def evaluate_eff(state: State_holder):\n",
    "    prompt = f\"Provide concise feedback on the effectivity of following essay and rate it out of 10 \\n\\n {state['essay']} \"\n",
    "    response=structured_model.invoke(prompt)\n",
    "    # state.lang_feedback = response.feedback\n",
    "    return {'eff_feedback':response.feedback,'individual_scores':[response.score]}\n",
    "\n",
    "def final_evaluation(state: State_holder):\n",
    "    prompt=f\"add following feedbacks to generate one final feedback for the essay \\n\\n Language Feedback: {state['lang_feedback']} \\n\\n Humor Feedback: {state['fun_feedback']} \\n\\n Effectivity Feedback: {state['eff_feedback']} \\n\\n Essay: {state['essay']}\"\n",
    "    response=model.invoke(prompt)\n",
    "    final_score = sum(state['individual_scores']) / len(state['individual_scores'])\n",
    "    state['final_score'] = final_score\n",
    "    state['rvw'] = response\n",
    "    return state\n"
   ]
  },
  {
   "cell_type": "markdown",
   "id": "b61a4c3d",
   "metadata": {},
   "source": []
  },
  {
   "cell_type": "code",
   "execution_count": 10,
   "id": "85533d7f",
   "metadata": {},
   "outputs": [
    {
     "data": {
      "text/plain": [
       "<langgraph.graph.state.StateGraph at 0x1c13d2d7970>"
      ]
     },
     "execution_count": 10,
     "metadata": {},
     "output_type": "execute_result"
    }
   ],
   "source": [
    "graph=StateGraph(State_holder)\n",
    "\n",
    "graph.add_node('evalaute_language',evaluate_lang)\n",
    "graph.add_node('evalaute_fun',evaluate_fun)\n",
    "graph.add_node('evalaute_effectivity',evaluate_eff)\n",
    "\n",
    "graph.add_node('final_evaluation',final_evaluation)"
   ]
  },
  {
   "cell_type": "code",
   "execution_count": null,
   "id": "20ac1d3d",
   "metadata": {},
   "outputs": [],
   "source": []
  },
  {
   "cell_type": "code",
   "execution_count": 11,
   "id": "be5c1b88",
   "metadata": {},
   "outputs": [
    {
     "data": {
      "text/plain": [
       "<langgraph.graph.state.StateGraph at 0x1c13d2d7970>"
      ]
     },
     "execution_count": 11,
     "metadata": {},
     "output_type": "execute_result"
    }
   ],
   "source": [
    "graph.add_edge(START, 'evalaute_language')\n",
    "graph.add_edge(START, 'evalaute_fun')\n",
    "graph.add_edge(START, 'evalaute_effectivity')\n",
    "graph.add_edge('evalaute_language', 'final_evaluation')\n",
    "graph.add_edge('evalaute_fun', 'final_evaluation')\n",
    "graph.add_edge('evalaute_effectivity', 'final_evaluation')\n",
    "graph.add_edge('final_evaluation', END)\n"
   ]
  },
  {
   "cell_type": "code",
   "execution_count": 12,
   "id": "b399b4c2",
   "metadata": {},
   "outputs": [
    {
     "data": {
      "image/png": "[encoded data removed]",
      "text/plain": [
       "<langgraph.graph.state.CompiledStateGraph object at 0x000001C13E7096F0>"
      ]
     },
     "execution_count": 12,
     "metadata": {},
     "output_type": "execute_result"
    }
   ],
   "source": [
    "workflow = graph.compile()\n",
    "workflow"
   ]
  },
  {
   "cell_type": "code",
   "execution_count": null,
   "id": "e2742e91",
   "metadata": {},
   "outputs": [],
   "source": []
  },
  {
   "cell_type": "code",
   "execution_count": 13,
   "id": "fc16f04c",
   "metadata": {},
   "outputs": [
    {
     "data": {
      "text/plain": [
       "{'essay': 'India is a democracy. That mean=s people can vote for their leaders. There are many political parties, like BJP, Congress, and others. People vote every few years in elections.The Indian polity also gives people rights, like freedom of speech and equality.',\n",
       " 'lang_feedback': \"The essay is clear and conveys basic information about India's democracy, but it has several language issues. 'That mean=s' is a typo and should be 'That means.' The sentences are simple and repetitive, lacking variety in structure. The essay could benefit from more specific examples or elaboration on rights like freedom of speech and equality. Overall, the language is functional but lacks sophistication and depth.\",\n",
       " 'eff_feedback': \"This essay is concise and provides a basic overview of India's democratic system, but it lacks depth, clarity, and structure. The sentence 'That mean=s people can vote for their leaders' contains a typographical error ('mean=s'), which impacts readability. The essay mentions political parties and rights but does not elaborate on their significance or provide examples. The ideas are underdeveloped and lack critical analysis. To improve, expand on key points, correct errors, and provide more context or examples to strengthen the argument.\",\n",
       " 'fun_feedback': 'The essay is informative and straightforward but lacks humor entirely. It reads more like a factual summary than an attempt at comedy. To incorporate humor, consider adding witty observations, playful language, or satirical commentary on Indian politics or democracy.',\n",
       " 'individual_scores': [4.0, 1.0, 5.5, 4.0, 1.0, 5.5],\n",
       " 'final_score': 3.5,\n",
       " 'rvw': AIMessage(content='**Final Feedback for the Essay:**  \\n\\nYour essay provides a basic overview of India’s democracy, covering key aspects such as voting, political parties, and fundamental rights. However, there are several areas for improvement to enhance clarity, depth, and engagement.  \\n\\n**Language & Clarity:**  \\nThe essay is straightforward but suffers from grammatical errors (e.g., *\"That mean=s\"* should be *\"That means\"*). The sentences are simple and repetitive, lacking structural variety. To improve, refine grammar, vary sentence structures, and provide specific examples (e.g., how freedom of speech is exercised in India) to add depth.  \\n\\n**Effectivity & Structure:**  \\nWhile concise, the essay lacks elaboration on key points. For instance, mentioning political parties like BJP and Congress without explaining their roles weakens the analysis. Additionally, rights like \"freedom of speech and equality\" need contextual examples (e.g., landmark court cases or protests) to demonstrate their real-world significance. Correcting typographical errors and expanding on ideas with critical analysis would strengthen the argument.  \\n\\n**Humor & Engagement:**  \\nThe tone is purely factual, missing opportunities for humor or wit. To make it more engaging, consider adding lighthearted observations (e.g., *\"With so many parties, election season can feel like a political carnival!\"*) or satirical takes on Indian democracy’s quirks—while keeping the core message intact.  \\n\\n**Overall:**  \\nThe foundation is solid, but the essay would benefit from:  \\n1. **Grammar fixes** (e.g., typos, sentence variety).  \\n2. **Deeper analysis** (explain concepts, add examples).  \\n3. **Engaging tone** (humor or vivid descriptions).  \\n\\nWith these refinements, your essay could be both informative and compelling. Keep working on blending accuracy with creativity!', additional_kwargs={'refusal': None}, response_metadata={'token_usage': {'completion_tokens': 377, 'prompt_tokens': 309, 'total_tokens': 686, 'completion_tokens_details': {'accepted_prediction_tokens': None, 'audio_tokens': None, 'reasoning_tokens': 0, 'rejected_prediction_tokens': None}, 'prompt_tokens_details': {'audio_tokens': None, 'cached_tokens': 0}}, 'model_name': 'deepseek/deepseek-chat', 'system_fingerprint': '', 'id': 'gen-1755098647-OySAvzuzkNaJkqLbTl8u', 'service_tier': None, 'finish_reason': 'stop', 'logprobs': None}, id='run--52241d94-0165-4460-966f-397e6096b159-0', usage_metadata={'input_tokens': 309, 'output_tokens': 377, 'total_tokens': 686, 'input_token_details': {'cache_read': 0}, 'output_token_details': {'reasoning': 0}})}"
      ]
     },
     "execution_count": 13,
     "metadata": {},
     "output_type": "execute_result"
    }
   ],
   "source": [
    "# class State_holder(TypedDict):\n",
    "#     essay:str\n",
    "#     lang_feedback:str\n",
    "#     eff_feedback:str\n",
    "#     fun_feedback:str\n",
    "#     individual_scores:Annotated[list[float], operator.add]\n",
    "#     final_score:float\n",
    "#     rvw:str\n",
    "    \n",
    "initial_state={\"essay\":essay}\n",
    "\n",
    "workflow.invoke(initial_state)"
   ]
  }
 ],
 "metadata": {
  "kernelspec": {
   "display_name": ".venv",
   "language": "python",
   "name": "python3"
  },
  "language_info": {
   "codemirror_mode": {
    "name": "ipython",
    "version": 3
   },
   "file_extension": ".py",
   "mimetype": "text/x-python",
   "name": "python",
   "nbconvert_exporter": "python",
   "pygments_lexer": "ipython3",
   "version": "3.10.6"
  }
 },
 "nbformat": 4,
 "nbformat_minor": 5
}
